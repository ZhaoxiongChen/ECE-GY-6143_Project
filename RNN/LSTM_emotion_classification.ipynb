{
 "cells": [
  {
   "cell_type": "markdown",
   "metadata": {},
   "source": [
    "# LSTM model"
   ]
  },
  {
   "cell_type": "markdown",
   "metadata": {},
   "source": [
    "For Natural Language Processing problems, a common method is neural network. RNN is widely used as a neural network with memory. This project uses the classic network LSTM in RNN to train the previously processed movie review data. We use the tensorflow to build up the whole model."
   ]
  },
  {
   "cell_type": "markdown",
   "metadata": {},
   "source": [
    "The model building process includes:\n",
    "- Use embedding to build word embedding matrix\n",
    "\n",
    "- Use LSTM as the basic unit of RNN\n",
    "\n",
    "- Random inactivation of embedding and LSTM (dropout)\n",
    "\n",
    "- Build a deep RNN with a depth of 2\n",
    "\n",
    "- Perform logistic regression on the final output of the RNN, and determine the category through sigmod"
   ]
  },
  {
   "cell_type": "code",
   "execution_count": 1,
   "metadata": {
    "scrolled": false
   },
   "outputs": [
    {
     "name": "stderr",
     "output_type": "stream",
     "text": [
      "C:\\Users\\Victor\\Anaconda3\\lib\\site-packages\\tensorflow\\python\\framework\\dtypes.py:526: FutureWarning: Passing (type, 1) or '1type' as a synonym of type is deprecated; in a future version of numpy, it will be understood as (type, (1,)) / '(1,)type'.\n",
      "  _np_qint8 = np.dtype([(\"qint8\", np.int8, 1)])\n",
      "C:\\Users\\Victor\\Anaconda3\\lib\\site-packages\\tensorflow\\python\\framework\\dtypes.py:527: FutureWarning: Passing (type, 1) or '1type' as a synonym of type is deprecated; in a future version of numpy, it will be understood as (type, (1,)) / '(1,)type'.\n",
      "  _np_quint8 = np.dtype([(\"quint8\", np.uint8, 1)])\n",
      "C:\\Users\\Victor\\Anaconda3\\lib\\site-packages\\tensorflow\\python\\framework\\dtypes.py:528: FutureWarning: Passing (type, 1) or '1type' as a synonym of type is deprecated; in a future version of numpy, it will be understood as (type, (1,)) / '(1,)type'.\n",
      "  _np_qint16 = np.dtype([(\"qint16\", np.int16, 1)])\n",
      "C:\\Users\\Victor\\Anaconda3\\lib\\site-packages\\tensorflow\\python\\framework\\dtypes.py:529: FutureWarning: Passing (type, 1) or '1type' as a synonym of type is deprecated; in a future version of numpy, it will be understood as (type, (1,)) / '(1,)type'.\n",
      "  _np_quint16 = np.dtype([(\"quint16\", np.uint16, 1)])\n",
      "C:\\Users\\Victor\\Anaconda3\\lib\\site-packages\\tensorflow\\python\\framework\\dtypes.py:530: FutureWarning: Passing (type, 1) or '1type' as a synonym of type is deprecated; in a future version of numpy, it will be understood as (type, (1,)) / '(1,)type'.\n",
      "  _np_qint32 = np.dtype([(\"qint32\", np.int32, 1)])\n",
      "C:\\Users\\Victor\\Anaconda3\\lib\\site-packages\\tensorflow\\python\\framework\\dtypes.py:535: FutureWarning: Passing (type, 1) or '1type' as a synonym of type is deprecated; in a future version of numpy, it will be understood as (type, (1,)) / '(1,)type'.\n",
      "  np_resource = np.dtype([(\"resource\", np.ubyte, 1)])\n"
     ]
    }
   ],
   "source": [
    "import collections\n",
    "import sys\n",
    "import numpy as np\n",
    "import nltk\n",
    "from nltk.corpus import stopwords\n",
    "import tensorflow as tf\n",
    "import os\n",
    "import functools"
   ]
  },
  {
   "cell_type": "markdown",
   "metadata": {},
   "source": [
    "Define the parameter in the Network\n",
    "- Hidden Units = 128\n",
    "- The depth of LSTM layers = 2\n",
    "- Epoch size = 2000\n",
    "- Batch size = 64\n",
    "- Vocabulary size in the embedding layer = 10000"
   ]
  },
  {
   "cell_type": "code",
   "execution_count": 2,
   "metadata": {},
   "outputs": [],
   "source": [
    "HIDDEN_SIZE = 128\n",
    "NUM_LAYERS = 2\n",
    "EPOCH = 2000\n",
    "BATCH_SIZE = 64\n",
    "VOCAB_SIZE = 10000"
   ]
  },
  {
   "cell_type": "markdown",
   "metadata": {},
   "source": [
    "Tensorflow variable initialization\n",
    "- X: the features in train/test set\n",
    "- y: the review lable in train/test set (0:negative, 1:positive)\n",
    "- emb_dropout: the dropout rate of embedding layer\n",
    "- rnn_dropout: the dropout rate of RNN layer"
   ]
  },
  {
   "cell_type": "code",
   "execution_count": 3,
   "metadata": {},
   "outputs": [],
   "source": [
    "X = tf.placeholder(tf.int32, [None, None])\n",
    "y = tf.placeholder(tf.float32, [None, 1])\n",
    "emb_dropout = tf.placeholder(tf.float32)\n",
    "rnn_dropout = tf.placeholder(tf.float32)"
   ]
  },
  {
   "cell_type": "markdown",
   "metadata": {},
   "source": [
    "Load the train and test data"
   ]
  },
  {
   "cell_type": "code",
   "execution_count": 20,
   "metadata": {},
   "outputs": [
    {
     "name": "stdout",
     "output_type": "stream",
     "text": [
      "(8490, 56)\n",
      "(8490, 1)\n",
      "(2172, 59)\n",
      "(2172, 1)\n"
     ]
    }
   ],
   "source": [
    "Xtr = np.load('data/train_data.npy')\n",
    "ytr = np.load('data/train_labels.npy')\n",
    "Xts = np.load('data/test_data.npy')\n",
    "yts = np.load('data/test_labels.npy')\n",
    "print(Xtr.shape)\n",
    "print(ytr.shape)\n",
    "print(Xts.shape)\n",
    "print(yts.shape)"
   ]
  },
  {
   "cell_type": "markdown",
   "metadata": {},
   "source": [
    "We defined the LSTM_Model class to encapsulate the LSTM layers,it contains:\n",
    "- words embedding layers\n",
    "- 2 layers LSTM cell in RNN\n",
    "- output layer with logistic regression\n",
    "\n",
    "\n",
    "At the same time use decorators to avoid duplication of tensor and method definitions.\n",
    "Specific methods function in the 'LSTM_Model' class can be seen in method comments."
   ]
  },
  {
   "cell_type": "code",
   "execution_count": 5,
   "metadata": {},
   "outputs": [],
   "source": [
    "def doublewrap(function):\n",
    "    @functools.wraps(function)\n",
    "    def decorator(*args, **kwargs):\n",
    "        if len(args) == 1 and len(kwargs) == 0 and callable(args[0]):\n",
    "            return function(args[0])\n",
    "        else:\n",
    "            return lambda wrapee: function(wrapee, *args, **kwargs)\n",
    "\n",
    "    return decorator\n",
    "\n",
    "\n",
    "@doublewrap\n",
    "def define_scope(function, scope=None, *args, **kwargs):\n",
    "    attribute = '_cache_' + function.__name__\n",
    "    name = scope or function.__name__\n",
    "\n",
    "    @property\n",
    "    @functools.wraps(function)\n",
    "    def decorator(self):\n",
    "        if not hasattr(self, attribute):\n",
    "            with tf.variable_scope(name, *args, **kwargs):\n",
    "                setattr(self, attribute, function(self))\n",
    "        return getattr(self, attribute)\n",
    "\n",
    "    return decorator\n",
    "\n",
    "class LSTM_Model(object):\n",
    "    \n",
    "    def __init__(self, data, lables, emb_dropout, rnn_dropout):\n",
    "        \"\"\"\n",
    "        LSTM model\n",
    "        :param data:the features in dataset\n",
    "        :param lables: the target lable in dataset\n",
    "        :param emb_keep: embedding dropout\n",
    "        :param rnn_keep: LSTM dropout\n",
    "        \"\"\"\n",
    "        self.data = data\n",
    "        self.label = lables\n",
    "        self.emb_dropout = emb_dropout\n",
    "        self.rnn_dropout = rnn_dropout\n",
    "        self.predict\n",
    "        self.loss\n",
    "        self.global_step\n",
    "        self.ema\n",
    "        self.optimize\n",
    "        self.acc\n",
    "\n",
    "    @define_scope\n",
    "    def predict(self):\n",
    "        \"\"\"\n",
    "        Define forward propagation process\n",
    "        \"\"\"\n",
    "        embedding = tf.get_variable('embedding', [VOCAB_SIZE, HIDDEN_SIZE])\n",
    "        lstm_cell = [tf.nn.rnn_cell.DropoutWrapper(tf.nn.rnn_cell.BasicLSTMCell(HIDDEN_SIZE), self.rnn_dropout) for _ in\n",
    "                     range(NUM_LAYERS)]\n",
    "        # RNN\n",
    "        cell = tf.nn.rnn_cell.MultiRNNCell(lstm_cell)\n",
    "        # embedding and dropout\n",
    "        input = tf.nn.embedding_lookup(embedding, self.data)\n",
    "        dropout_input = tf.nn.dropout(input, self.emb_dropout)\n",
    "        # LSTM output\n",
    "        outputs, last_state = tf.nn.dynamic_rnn(cell, dropout_input, dtype=tf.float32)\n",
    "        last_output = outputs[:, -1, :]\n",
    "        weights = tf.Variable(tf.truncated_normal([HIDDEN_SIZE, 1]), dtype=tf.float32, name='weights')\n",
    "        bias = tf.Variable(0, dtype=tf.float32, name='bias')\n",
    "\n",
    "        logits = tf.matmul(last_output, weights) + bias\n",
    "\n",
    "        return logits\n",
    "\n",
    "    @define_scope\n",
    "    def ema(self):\n",
    "\n",
    "        ema = tf.train.ExponentialMovingAverage(0.99, self.global_step)\n",
    "        return ema\n",
    "    \n",
    "    @define_scope\n",
    "    def loss(self):\n",
    "        \"\"\"\n",
    "        loss function: we use the sigmoid cross_entropy as loss function\n",
    "        :return:\n",
    "        \"\"\"\n",
    "        loss = tf.nn.sigmoid_cross_entropy_with_logits(labels=self.label, logits=self.predict)\n",
    "        loss = tf.reduce_mean(loss)\n",
    "        return loss\n",
    "\n",
    "    @define_scope\n",
    "    def global_step(self):\n",
    "        \"\"\"\n",
    "        global variable\n",
    "        :return:\n",
    "        \"\"\"\n",
    "        global_step = tf.Variable(0, trainable=False)\n",
    "        return global_step\n",
    "\n",
    "    @define_scope\n",
    "    def optimize(self):\n",
    "        \"\"\"\n",
    "        Define the back propagation process\n",
    "        Optimizer: AdamOptimizer are used in this section\n",
    "        :return:\n",
    "        \"\"\"\n",
    "        # learning rate\n",
    "        learn_rate = tf.train.exponential_decay(0.0001, self.global_step, 1000,\n",
    "                                                0.99)\n",
    "        # optimizer\n",
    "        optimizer = tf.train.AdamOptimizer(learn_rate).minimize(self.loss, global_step=self.global_step)\n",
    "        ave_op = self.ema.apply(tf.trainable_variables())\n",
    "        with tf.control_dependencies([optimizer, ave_op]):\n",
    "            train_op = tf.no_op('train')\n",
    "        return train_op\n",
    "\n",
    "    @define_scope\n",
    "    def acc(self):\n",
    "        \"\"\"\n",
    "        Calculate accuracy:\n",
    "        :return: acc: the accuracy\n",
    "        \"\"\"\n",
    "        # sigmoid\n",
    "        output = tf.nn.sigmoid(self.predict)\n",
    "        ok0 = tf.logical_and(tf.less_equal(output, 0.5), tf.equal(self.label, 0))\n",
    "        ok1 = tf.logical_and(tf.greater(output, 0.5), tf.equal(self.label, 1))\n",
    "        ok = tf.logical_or(ok0, ok1)\n",
    "        acc = tf.reduce_mean(tf.cast(ok, dtype=tf.float32))\n",
    "        return acc"
   ]
  },
  {
   "cell_type": "markdown",
   "metadata": {},
   "source": [
    "Use the Xtr,ytr(training set) to train the LSTM_Model we define before.\n",
    "\n",
    "\n",
    "We have 2000 iterations, and each iteration we select batch size as 64.\n",
    "\n",
    "\n",
    "Then, store the history as:\n",
    "- Epoch: Number of iterations\n",
    "- tr_loss: the training loss\n",
    "- tr_acc: the training accuracy\n",
    "- ts_acc: the test accuracy\n",
    "\n",
    "For future use of the model, we save the model per 100 iterations."
   ]
  },
  {
   "cell_type": "code",
   "execution_count": 6,
   "metadata": {},
   "outputs": [
    {
     "name": "stdout",
     "output_type": "stream",
     "text": [
      "WARNING:tensorflow:From C:\\Users\\Victor\\Anaconda3\\lib\\site-packages\\tensorflow\\python\\framework\\op_def_library.py:263: colocate_with (from tensorflow.python.framework.ops) is deprecated and will be removed in a future version.\n",
      "Instructions for updating:\n",
      "Colocations handled automatically by placer.\n",
      "WARNING:tensorflow:From <ipython-input-5-98a2973072ef>:52: BasicLSTMCell.__init__ (from tensorflow.python.ops.rnn_cell_impl) is deprecated and will be removed in a future version.\n",
      "Instructions for updating:\n",
      "This class is equivalent as tf.keras.layers.LSTMCell, and will be replaced by that in Tensorflow 2.0.\n",
      "WARNING:tensorflow:From <ipython-input-5-98a2973072ef>:55: MultiRNNCell.__init__ (from tensorflow.python.ops.rnn_cell_impl) is deprecated and will be removed in a future version.\n",
      "Instructions for updating:\n",
      "This class is equivalent as tf.keras.layers.StackedRNNCells, and will be replaced by that in Tensorflow 2.0.\n",
      "WARNING:tensorflow:From <ipython-input-5-98a2973072ef>:58: calling dropout (from tensorflow.python.ops.nn_ops) with keep_prob is deprecated and will be removed in a future version.\n",
      "Instructions for updating:\n",
      "Please use `rate` instead of `keep_prob`. Rate should be set to `rate = 1 - keep_prob`.\n",
      "WARNING:tensorflow:From <ipython-input-5-98a2973072ef>:60: dynamic_rnn (from tensorflow.python.ops.rnn) is deprecated and will be removed in a future version.\n",
      "Instructions for updating:\n",
      "Please use `keras.layers.RNN(cell)`, which is equivalent to this API\n",
      "WARNING:tensorflow:From C:\\Users\\Victor\\Anaconda3\\lib\\site-packages\\tensorflow\\python\\ops\\array_grad.py:425: to_int32 (from tensorflow.python.ops.math_ops) is deprecated and will be removed in a future version.\n",
      "Instructions for updating:\n",
      "Use tf.cast instead.\n",
      "epoch: 0,tr_loss: 0.6897321939468384, tr_acc: 0.578125, ts_acc: [0.49263352]\n",
      "epoch: 10,tr_loss: 0.6932675838470459, tr_acc: 0.453125, ts_acc: [0.5073665]\n",
      "epoch: 20,tr_loss: 0.6957818269729614, tr_acc: 0.53125, ts_acc: [0.49401474]\n",
      "epoch: 30,tr_loss: 0.7090257406234741, tr_acc: 0.421875, ts_acc: [0.49263352]\n",
      "epoch: 40,tr_loss: 0.6882931590080261, tr_acc: 0.609375, ts_acc: [0.4930939]\n",
      "epoch: 50,tr_loss: 0.6893097162246704, tr_acc: 0.5625, ts_acc: [0.5073665]\n",
      "epoch: 60,tr_loss: 0.6972278356552124, tr_acc: 0.453125, ts_acc: [0.5073665]\n",
      "epoch: 70,tr_loss: 0.6928060054779053, tr_acc: 0.515625, ts_acc: [0.49263352]\n",
      "epoch: 80,tr_loss: 0.6937026977539062, tr_acc: 0.46875, ts_acc: [0.49493554]\n",
      "epoch: 90,tr_loss: 0.6953752636909485, tr_acc: 0.484375, ts_acc: [0.5073665]\n",
      "epoch: 100,tr_loss: 0.6931607723236084, tr_acc: 0.515625, ts_acc: [0.49263352]\n",
      "epoch: 110,tr_loss: 0.6918941736221313, tr_acc: 0.578125, ts_acc: [0.49263352]\n",
      "epoch: 120,tr_loss: 0.6918243765830994, tr_acc: 0.546875, ts_acc: [0.5073665]\n",
      "epoch: 130,tr_loss: 0.6965095400810242, tr_acc: 0.40625, ts_acc: [0.5073665]\n",
      "epoch: 140,tr_loss: 0.6951184272766113, tr_acc: 0.46875, ts_acc: [0.49263352]\n",
      "epoch: 150,tr_loss: 0.6943354606628418, tr_acc: 0.46875, ts_acc: [0.49355432]\n",
      "epoch: 160,tr_loss: 0.6817952394485474, tr_acc: 0.65625, ts_acc: [0.49263352]\n",
      "epoch: 170,tr_loss: 0.6948594450950623, tr_acc: 0.46875, ts_acc: [0.49263352]\n",
      "epoch: 180,tr_loss: 0.6928738951683044, tr_acc: 0.5625, ts_acc: [0.5073665]\n",
      "epoch: 190,tr_loss: 0.691672682762146, tr_acc: 0.546875, ts_acc: [0.5073665]\n",
      "epoch: 200,tr_loss: 0.6941012740135193, tr_acc: 0.515625, ts_acc: [0.51243097]\n",
      "epoch: 210,tr_loss: 0.6913324594497681, tr_acc: 0.53125, ts_acc: [0.49263352]\n",
      "epoch: 220,tr_loss: 0.6924155950546265, tr_acc: 0.515625, ts_acc: [0.5073665]\n",
      "epoch: 230,tr_loss: 0.6954199075698853, tr_acc: 0.46875, ts_acc: [0.49263352]\n",
      "epoch: 240,tr_loss: 0.6913865804672241, tr_acc: 0.53125, ts_acc: [0.49263352]\n",
      "epoch: 250,tr_loss: 0.690958559513092, tr_acc: 0.5625, ts_acc: [0.5073665]\n",
      "epoch: 260,tr_loss: 0.6953489184379578, tr_acc: 0.4375, ts_acc: [0.5073665]\n",
      "epoch: 270,tr_loss: 0.6961011290550232, tr_acc: 0.375, ts_acc: [0.4921731]\n",
      "epoch: 280,tr_loss: 0.6965031027793884, tr_acc: 0.390625, ts_acc: [0.50782686]\n",
      "epoch: 290,tr_loss: 0.6923370957374573, tr_acc: 0.5625, ts_acc: [0.49263352]\n",
      "epoch: 300,tr_loss: 0.6890047788619995, tr_acc: 0.5625, ts_acc: [0.49263352]\n",
      "epoch: 310,tr_loss: 0.6934337615966797, tr_acc: 0.5, ts_acc: [0.5469613]\n",
      "epoch: 320,tr_loss: 0.6931958198547363, tr_acc: 0.421875, ts_acc: [0.5073665]\n",
      "epoch: 330,tr_loss: 0.6929216384887695, tr_acc: 0.515625, ts_acc: [0.5073665]\n",
      "epoch: 340,tr_loss: 0.6925612688064575, tr_acc: 0.484375, ts_acc: [0.49263352]\n",
      "epoch: 350,tr_loss: 0.691435694694519, tr_acc: 0.546875, ts_acc: [0.5073665]\n",
      "epoch: 360,tr_loss: 0.692535400390625, tr_acc: 0.5, ts_acc: [0.49263352]\n",
      "epoch: 370,tr_loss: 0.6946848630905151, tr_acc: 0.5, ts_acc: [0.49263352]\n",
      "epoch: 380,tr_loss: 0.6950451135635376, tr_acc: 0.4375, ts_acc: [0.4921731]\n",
      "epoch: 390,tr_loss: 0.6939448118209839, tr_acc: 0.515625, ts_acc: [0.5073665]\n",
      "epoch: 400,tr_loss: 0.694767951965332, tr_acc: 0.421875, ts_acc: [0.49355432]\n",
      "epoch: 410,tr_loss: 0.6913807392120361, tr_acc: 0.5625, ts_acc: [0.50414366]\n",
      "epoch: 420,tr_loss: 0.6917458772659302, tr_acc: 0.515625, ts_acc: [0.49263352]\n",
      "epoch: 430,tr_loss: 0.7006248831748962, tr_acc: 0.4375, ts_acc: [0.49263352]\n",
      "epoch: 440,tr_loss: 0.6956177353858948, tr_acc: 0.390625, ts_acc: [0.53913444]\n",
      "epoch: 450,tr_loss: 0.6912709474563599, tr_acc: 0.5, ts_acc: [0.50782686]\n",
      "epoch: 460,tr_loss: 0.6841779947280884, tr_acc: 0.65625, ts_acc: [0.6169429]\n",
      "epoch: 470,tr_loss: 0.6183048486709595, tr_acc: 0.671875, ts_acc: [0.713628]\n",
      "epoch: 480,tr_loss: 0.718231201171875, tr_acc: 0.515625, ts_acc: [0.58425415]\n",
      "epoch: 490,tr_loss: 0.5740364193916321, tr_acc: 0.75, ts_acc: [0.7315838]\n",
      "epoch: 500,tr_loss: 0.49902063608169556, tr_acc: 0.78125, ts_acc: [0.6892265]\n",
      "epoch: 510,tr_loss: 0.6213929057121277, tr_acc: 0.65625, ts_acc: [0.62016577]\n",
      "epoch: 520,tr_loss: 0.6424514651298523, tr_acc: 0.671875, ts_acc: [0.7186924]\n",
      "epoch: 530,tr_loss: 0.7885382175445557, tr_acc: 0.625, ts_acc: [0.73342544]\n",
      "epoch: 540,tr_loss: 0.5236848592758179, tr_acc: 0.734375, ts_acc: [0.7403315]\n",
      "epoch: 550,tr_loss: 0.6386005878448486, tr_acc: 0.671875, ts_acc: [0.7398711]\n",
      "epoch: 560,tr_loss: 0.4895264208316803, tr_acc: 0.78125, ts_acc: [0.7481584]\n",
      "epoch: 570,tr_loss: 0.5256149172782898, tr_acc: 0.734375, ts_acc: [0.75368327]\n",
      "epoch: 580,tr_loss: 0.42044559121131897, tr_acc: 0.828125, ts_acc: [0.7504604]\n",
      "epoch: 590,tr_loss: 0.42231273651123047, tr_acc: 0.84375, ts_acc: [0.75]\n",
      "epoch: 600,tr_loss: 0.48316964507102966, tr_acc: 0.765625, ts_acc: [0.7338858]\n",
      "epoch: 610,tr_loss: 0.4095391035079956, tr_acc: 0.828125, ts_acc: [0.7532228]\n",
      "epoch: 620,tr_loss: 0.5243304967880249, tr_acc: 0.71875, ts_acc: [0.75276244]\n",
      "epoch: 630,tr_loss: 0.43898993730545044, tr_acc: 0.828125, ts_acc: [0.75368327]\n",
      "epoch: 640,tr_loss: 0.3665204644203186, tr_acc: 0.796875, ts_acc: [0.7467772]\n",
      "epoch: 650,tr_loss: 0.4167029559612274, tr_acc: 0.78125, ts_acc: [0.7569061]\n",
      "epoch: 660,tr_loss: 0.4507558345794678, tr_acc: 0.8125, ts_acc: [0.7569061]\n",
      "epoch: 670,tr_loss: 0.5339164733886719, tr_acc: 0.75, ts_acc: [0.7255985]\n",
      "epoch: 680,tr_loss: 0.3376714885234833, tr_acc: 0.875, ts_acc: [0.7532228]\n",
      "epoch: 690,tr_loss: 0.3355487585067749, tr_acc: 0.84375, ts_acc: [0.75598526]\n",
      "epoch: 700,tr_loss: 0.5511381030082703, tr_acc: 0.796875, ts_acc: [0.75276244]\n",
      "epoch: 710,tr_loss: 0.40336674451828003, tr_acc: 0.796875, ts_acc: [0.7555249]\n",
      "epoch: 720,tr_loss: 0.3980676531791687, tr_acc: 0.75, ts_acc: [0.7582873]\n",
      "epoch: 730,tr_loss: 0.4491316080093384, tr_acc: 0.796875, ts_acc: [0.7518416]\n",
      "epoch: 740,tr_loss: 0.30074965953826904, tr_acc: 0.859375, ts_acc: [0.76104975]\n",
      "epoch: 750,tr_loss: 0.4572325348854065, tr_acc: 0.765625, ts_acc: [0.7601289]\n",
      "epoch: 760,tr_loss: 0.3655359148979187, tr_acc: 0.859375, ts_acc: [0.7582873]\n",
      "epoch: 770,tr_loss: 0.27499836683273315, tr_acc: 0.859375, ts_acc: [0.75]\n",
      "epoch: 780,tr_loss: 0.4475850760936737, tr_acc: 0.828125, ts_acc: [0.76104975]\n",
      "epoch: 790,tr_loss: 0.33474287390708923, tr_acc: 0.90625, ts_acc: [0.7601289]\n",
      "epoch: 800,tr_loss: 0.4678466320037842, tr_acc: 0.796875, ts_acc: [0.7587477]\n",
      "epoch: 810,tr_loss: 0.31383270025253296, tr_acc: 0.875, ts_acc: [0.7592081]\n",
      "epoch: 820,tr_loss: 0.3277873694896698, tr_acc: 0.921875, ts_acc: [0.76151013]\n",
      "epoch: 830,tr_loss: 0.32753780484199524, tr_acc: 0.828125, ts_acc: [0.76151013]\n"
     ]
    },
    {
     "name": "stdout",
     "output_type": "stream",
     "text": [
      "epoch: 840,tr_loss: 0.3323696255683899, tr_acc: 0.859375, ts_acc: [0.75782686]\n",
      "epoch: 850,tr_loss: 0.3537870943546295, tr_acc: 0.84375, ts_acc: [0.76104975]\n",
      "epoch: 860,tr_loss: 0.35930293798446655, tr_acc: 0.859375, ts_acc: [0.7573665]\n",
      "epoch: 870,tr_loss: 0.4010298252105713, tr_acc: 0.8125, ts_acc: [0.75598526]\n",
      "epoch: 880,tr_loss: 0.33777564764022827, tr_acc: 0.828125, ts_acc: [0.7573665]\n",
      "epoch: 890,tr_loss: 0.36863815784454346, tr_acc: 0.796875, ts_acc: [0.7573665]\n",
      "epoch: 900,tr_loss: 0.2918197214603424, tr_acc: 0.890625, ts_acc: [0.76104975]\n",
      "epoch: 910,tr_loss: 0.28826576471328735, tr_acc: 0.875, ts_acc: [0.7573665]\n",
      "epoch: 920,tr_loss: 0.3170800805091858, tr_acc: 0.84375, ts_acc: [0.7592081]\n",
      "epoch: 930,tr_loss: 0.473861962556839, tr_acc: 0.761904776096344, ts_acc: [0.7587477]\n",
      "epoch: 940,tr_loss: 0.3303835988044739, tr_acc: 0.90625, ts_acc: [0.7555249]\n",
      "epoch: 950,tr_loss: 0.25731542706489563, tr_acc: 0.875, ts_acc: [0.75782686]\n",
      "epoch: 960,tr_loss: 0.4170353412628174, tr_acc: 0.859375, ts_acc: [0.7638122]\n",
      "epoch: 970,tr_loss: 0.24231676757335663, tr_acc: 0.90625, ts_acc: [0.75644565]\n",
      "epoch: 980,tr_loss: 0.2908216714859009, tr_acc: 0.90625, ts_acc: [0.75782686]\n",
      "epoch: 990,tr_loss: 0.2810227572917938, tr_acc: 0.875, ts_acc: [0.7582873]\n",
      "epoch: 1000,tr_loss: 0.32952505350112915, tr_acc: 0.859375, ts_acc: [0.75644565]\n",
      "epoch: 1010,tr_loss: 0.1926441490650177, tr_acc: 0.9375, ts_acc: [0.7656538]\n",
      "epoch: 1020,tr_loss: 0.32708728313446045, tr_acc: 0.859375, ts_acc: [0.7596685]\n",
      "epoch: 1030,tr_loss: 0.29842475056648254, tr_acc: 0.859375, ts_acc: [0.7569061]\n",
      "epoch: 1040,tr_loss: 0.33758148550987244, tr_acc: 0.8125, ts_acc: [0.75460404]\n",
      "epoch: 1050,tr_loss: 0.278400719165802, tr_acc: 0.859375, ts_acc: [0.75368327]\n",
      "epoch: 1060,tr_loss: 0.19683054089546204, tr_acc: 0.9375, ts_acc: [0.7619705]\n",
      "epoch: 1070,tr_loss: 0.31568288803100586, tr_acc: 0.875, ts_acc: [0.76104975]\n",
      "epoch: 1080,tr_loss: 0.3661128282546997, tr_acc: 0.84375, ts_acc: [0.7601289]\n",
      "epoch: 1090,tr_loss: 0.42354297637939453, tr_acc: 0.8125, ts_acc: [0.7582873]\n",
      "epoch: 1100,tr_loss: 0.33949875831604004, tr_acc: 0.875, ts_acc: [0.7582873]\n",
      "epoch: 1110,tr_loss: 0.3577534854412079, tr_acc: 0.796875, ts_acc: [0.7605893]\n",
      "epoch: 1120,tr_loss: 0.3091249167919159, tr_acc: 0.875, ts_acc: [0.76151013]\n",
      "epoch: 1130,tr_loss: 0.27271613478660583, tr_acc: 0.859375, ts_acc: [0.7592081]\n",
      "epoch: 1140,tr_loss: 0.35999131202697754, tr_acc: 0.84375, ts_acc: [0.7601289]\n",
      "epoch: 1150,tr_loss: 0.31017571687698364, tr_acc: 0.875, ts_acc: [0.7592081]\n",
      "epoch: 1160,tr_loss: 0.24202154576778412, tr_acc: 0.859375, ts_acc: [0.7605893]\n",
      "epoch: 1170,tr_loss: 0.24391651153564453, tr_acc: 0.921875, ts_acc: [0.7587477]\n",
      "epoch: 1180,tr_loss: 0.2910417318344116, tr_acc: 0.875, ts_acc: [0.76289135]\n",
      "epoch: 1190,tr_loss: 0.26766717433929443, tr_acc: 0.875, ts_acc: [0.7605893]\n",
      "epoch: 1200,tr_loss: 0.28684765100479126, tr_acc: 0.84375, ts_acc: [0.7638122]\n",
      "epoch: 1210,tr_loss: 0.3444053530693054, tr_acc: 0.859375, ts_acc: [0.76243097]\n",
      "epoch: 1220,tr_loss: 0.36829257011413574, tr_acc: 0.828125, ts_acc: [0.7573665]\n",
      "epoch: 1230,tr_loss: 0.3056318759918213, tr_acc: 0.875, ts_acc: [0.7513812]\n",
      "epoch: 1240,tr_loss: 0.2331937849521637, tr_acc: 0.890625, ts_acc: [0.767035]\n",
      "epoch: 1250,tr_loss: 0.36391574144363403, tr_acc: 0.859375, ts_acc: [0.7573665]\n",
      "epoch: 1260,tr_loss: 0.29010823369026184, tr_acc: 0.84375, ts_acc: [0.7619705]\n",
      "epoch: 1270,tr_loss: 0.2790175676345825, tr_acc: 0.875, ts_acc: [0.7550644]\n",
      "epoch: 1280,tr_loss: 0.2659415006637573, tr_acc: 0.921875, ts_acc: [0.76243097]\n",
      "epoch: 1290,tr_loss: 0.2014979124069214, tr_acc: 0.90625, ts_acc: [0.76335174]\n",
      "epoch: 1300,tr_loss: 0.19770628213882446, tr_acc: 0.9375, ts_acc: [0.7550644]\n",
      "epoch: 1310,tr_loss: 0.23944160342216492, tr_acc: 0.921875, ts_acc: [0.7642726]\n",
      "epoch: 1320,tr_loss: 0.27892258763313293, tr_acc: 0.875, ts_acc: [0.7638122]\n",
      "epoch: 1330,tr_loss: 0.2946135401725769, tr_acc: 0.828125, ts_acc: [0.7592081]\n",
      "epoch: 1340,tr_loss: 0.30512961745262146, tr_acc: 0.90625, ts_acc: [0.7504604]\n",
      "epoch: 1350,tr_loss: 0.26714780926704407, tr_acc: 0.859375, ts_acc: [0.7569061]\n",
      "epoch: 1360,tr_loss: 0.18803225457668304, tr_acc: 0.90625, ts_acc: [0.75]\n",
      "epoch: 1370,tr_loss: 0.30504295229911804, tr_acc: 0.875, ts_acc: [0.7504604]\n",
      "epoch: 1380,tr_loss: 0.20954321324825287, tr_acc: 0.921875, ts_acc: [0.76289135]\n",
      "epoch: 1390,tr_loss: 0.2565455436706543, tr_acc: 0.875, ts_acc: [0.7638122]\n",
      "epoch: 1400,tr_loss: 0.34130194783210754, tr_acc: 0.8125, ts_acc: [0.76289135]\n",
      "epoch: 1410,tr_loss: 0.22984042763710022, tr_acc: 0.921875, ts_acc: [0.7592081]\n",
      "epoch: 1420,tr_loss: 0.22807346284389496, tr_acc: 0.921875, ts_acc: [0.75782686]\n",
      "epoch: 1430,tr_loss: 0.24850238859653473, tr_acc: 0.890625, ts_acc: [0.76519334]\n",
      "epoch: 1440,tr_loss: 0.15084034204483032, tr_acc: 0.953125, ts_acc: [0.76473296]\n",
      "epoch: 1450,tr_loss: 0.28286972641944885, tr_acc: 0.859375, ts_acc: [0.7587477]\n",
      "epoch: 1460,tr_loss: 0.1154467910528183, tr_acc: 0.96875, ts_acc: [0.7688766]\n",
      "epoch: 1470,tr_loss: 0.3290146589279175, tr_acc: 0.859375, ts_acc: [0.7619705]\n",
      "epoch: 1480,tr_loss: 0.23934097588062286, tr_acc: 0.890625, ts_acc: [0.7638122]\n",
      "epoch: 1490,tr_loss: 0.20450720191001892, tr_acc: 0.9375, ts_acc: [0.7573665]\n",
      "epoch: 1500,tr_loss: 0.22294314205646515, tr_acc: 0.921875, ts_acc: [0.75782686]\n",
      "epoch: 1510,tr_loss: 0.16958847641944885, tr_acc: 0.921875, ts_acc: [0.7656538]\n",
      "epoch: 1520,tr_loss: 0.14273741841316223, tr_acc: 0.9375, ts_acc: [0.7569061]\n",
      "epoch: 1530,tr_loss: 0.29678866267204285, tr_acc: 0.875, ts_acc: [0.76151013]\n",
      "epoch: 1540,tr_loss: 0.22867627441883087, tr_acc: 0.875, ts_acc: [0.75092083]\n",
      "epoch: 1550,tr_loss: 0.19216345250606537, tr_acc: 0.90625, ts_acc: [0.7555249]\n",
      "epoch: 1560,tr_loss: 0.23098215460777283, tr_acc: 0.890625, ts_acc: [0.7587477]\n",
      "epoch: 1570,tr_loss: 0.14544367790222168, tr_acc: 0.9375, ts_acc: [0.7596685]\n",
      "epoch: 1580,tr_loss: 0.22516176104545593, tr_acc: 0.921875, ts_acc: [0.7592081]\n",
      "epoch: 1590,tr_loss: 0.1271984577178955, tr_acc: 0.953125, ts_acc: [0.76104975]\n",
      "epoch: 1600,tr_loss: 0.20040428638458252, tr_acc: 0.921875, ts_acc: [0.74585634]\n",
      "epoch: 1610,tr_loss: 0.24481910467147827, tr_acc: 0.890625, ts_acc: [0.75460404]\n",
      "epoch: 1620,tr_loss: 0.19596004486083984, tr_acc: 0.9375, ts_acc: [0.76289135]\n",
      "epoch: 1630,tr_loss: 0.27041342854499817, tr_acc: 0.890625, ts_acc: [0.75230205]\n",
      "epoch: 1640,tr_loss: 0.18275834619998932, tr_acc: 0.90625, ts_acc: [0.75276244]\n",
      "epoch: 1650,tr_loss: 0.12896418571472168, tr_acc: 0.96875, ts_acc: [0.7486188]\n",
      "epoch: 1660,tr_loss: 0.2690824866294861, tr_acc: 0.921875, ts_acc: [0.76104975]\n",
      "epoch: 1670,tr_loss: 0.16474857926368713, tr_acc: 0.9375, ts_acc: [0.75460404]\n",
      "epoch: 1680,tr_loss: 0.2706657648086548, tr_acc: 0.921875, ts_acc: [0.7569061]\n",
      "epoch: 1690,tr_loss: 0.1818377524614334, tr_acc: 0.9375, ts_acc: [0.7587477]\n",
      "epoch: 1700,tr_loss: 0.20134995877742767, tr_acc: 0.90625, ts_acc: [0.7605893]\n",
      "epoch: 1710,tr_loss: 0.13727867603302002, tr_acc: 0.953125, ts_acc: [0.7605893]\n",
      "epoch: 1720,tr_loss: 0.19592389464378357, tr_acc: 0.90625, ts_acc: [0.7592081]\n",
      "epoch: 1730,tr_loss: 0.40100717544555664, tr_acc: 0.84375, ts_acc: [0.7592081]\n",
      "epoch: 1740,tr_loss: 0.2229209840297699, tr_acc: 0.875, ts_acc: [0.76289135]\n",
      "epoch: 1750,tr_loss: 0.2342928946018219, tr_acc: 0.890625, ts_acc: [0.76104975]\n",
      "epoch: 1760,tr_loss: 0.1694294810295105, tr_acc: 0.9375, ts_acc: [0.74769795]\n",
      "epoch: 1770,tr_loss: 0.1830207258462906, tr_acc: 0.90625, ts_acc: [0.75782686]\n",
      "epoch: 1780,tr_loss: 0.18574847280979156, tr_acc: 0.921875, ts_acc: [0.7601289]\n",
      "epoch: 1790,tr_loss: 0.13490396738052368, tr_acc: 0.921875, ts_acc: [0.76243097]\n",
      "epoch: 1800,tr_loss: 0.30504119396209717, tr_acc: 0.84375, ts_acc: [0.75598526]\n",
      "epoch: 1810,tr_loss: 0.3183215856552124, tr_acc: 0.875, ts_acc: [0.7592081]\n",
      "epoch: 1820,tr_loss: 0.14694125950336456, tr_acc: 0.953125, ts_acc: [0.7592081]\n",
      "epoch: 1830,tr_loss: 0.15386836230754852, tr_acc: 0.953125, ts_acc: [0.75598526]\n",
      "epoch: 1840,tr_loss: 0.217193603515625, tr_acc: 0.921875, ts_acc: [0.7569061]\n",
      "epoch: 1850,tr_loss: 0.09897734224796295, tr_acc: 0.984375, ts_acc: [0.75276244]\n",
      "epoch: 1860,tr_loss: 0.1828458458185196, tr_acc: 0.9375, ts_acc: [0.7582873]\n",
      "epoch: 1870,tr_loss: 0.17500436305999756, tr_acc: 0.9375, ts_acc: [0.75782686]\n"
     ]
    },
    {
     "name": "stdout",
     "output_type": "stream",
     "text": [
      "epoch: 1880,tr_loss: 0.32674428820610046, tr_acc: 0.859375, ts_acc: [0.7601289]\n",
      "epoch: 1890,tr_loss: 0.1475110650062561, tr_acc: 0.953125, ts_acc: [0.7592081]\n",
      "epoch: 1900,tr_loss: 0.24667951464653015, tr_acc: 0.90625, ts_acc: [0.74585634]\n",
      "epoch: 1910,tr_loss: 0.16652724146842957, tr_acc: 0.9375, ts_acc: [0.7582873]\n",
      "epoch: 1920,tr_loss: 0.15558205544948578, tr_acc: 0.921875, ts_acc: [0.74907917]\n",
      "epoch: 1930,tr_loss: 0.32748207449913025, tr_acc: 0.875, ts_acc: [0.7569061]\n",
      "epoch: 1940,tr_loss: 0.14824756979942322, tr_acc: 0.921875, ts_acc: [0.7569061]\n",
      "epoch: 1950,tr_loss: 0.18410441279411316, tr_acc: 0.9375, ts_acc: [0.75598526]\n",
      "epoch: 1960,tr_loss: 0.1448650062084198, tr_acc: 0.9375, ts_acc: [0.7592081]\n",
      "epoch: 1970,tr_loss: 0.14769834280014038, tr_acc: 0.953125, ts_acc: [0.75782686]\n",
      "epoch: 1980,tr_loss: 0.18732431530952454, tr_acc: 0.921875, ts_acc: [0.75230205]\n",
      "epoch: 1990,tr_loss: 0.2149602472782135, tr_acc: 0.921875, ts_acc: [0.7573665]\n"
     ]
    }
   ],
   "source": [
    "model = LSTM_Model(X, y, emb_dropout, rnn_dropout)\n",
    "data_size = len(Xtr)\n",
    "start = 0\n",
    "loss_his = []\n",
    "acc_his = []\n",
    "acc2_his = []\n",
    "\n",
    "with tf.Session() as sess:\n",
    "    # Initialization\n",
    "    sess.run(tf.global_variables_initializer())\n",
    "    # iteration\n",
    "    for step in range(EPOCH):\n",
    "        # Batch \n",
    "        end = min(start + BATCH_SIZE, data_size)\n",
    "        X1,y1 = Xtr[start:end],ytr[start:end]\n",
    "        start = end\n",
    "        if start >= data_size:\n",
    "            start = 0\n",
    "        loss, _, acc  = sess.run([model.loss, model.optimize, model.acc],\n",
    "                           {model.data: X1, model.label: y1, model.emb_dropout: 0.5, \n",
    "                            model.rnn_dropout: 0.5})\n",
    "        \n",
    "        acc2 = sess.run([model.acc],\n",
    "               {model.data: Xts, model.label: yts, model.emb_dropout: 1.0, model.rnn_dropout: 1.0})\n",
    "        if step % 10 == 0:\n",
    "            print ('epoch: {},tr_loss: {}, tr_acc: {}, ts_acc: {}'.format(step, loss,acc,acc2))\n",
    "            loss_his.append(loss)\n",
    "            acc_his.append(acc)\n",
    "            acc2_his.append(acc2)\n",
    "        # save the model\n",
    "        if step % 100 == 0:\n",
    "            tf.train.Saver().save(sess, os.path.join('ckpt', 'lstm_model'), model.global_step)"
   ]
  },
  {
   "cell_type": "markdown",
   "metadata": {},
   "source": [
    "Plot the training loss. We found that after 2000 iterations, the training loss will converge to about 0.2"
   ]
  },
  {
   "cell_type": "code",
   "execution_count": 22,
   "metadata": {},
   "outputs": [
    {
     "data": {
      "text/plain": [
       "Text(0, 0.5, 'training loss')"
      ]
     },
     "execution_count": 22,
     "metadata": {},
     "output_type": "execute_result"
    },
    {
     "data": {
      "image/png": "[encoded data removed]",
      "text/plain": [
       "<Figure size 432x288 with 1 Axes>"
      ]
     },
     "metadata": {
      "needs_background": "light"
     },
     "output_type": "display_data"
    }
   ],
   "source": [
    "import matplotlib\n",
    "import matplotlib.pyplot as plt\n",
    "%matplotlib inline\n",
    "\n",
    "plt.plot(loss_his)\n",
    "plt.grid()\n",
    "plt.xlabel('epochs')\n",
    "plt.ylabel('training loss')"
   ]
  },
  {
   "cell_type": "markdown",
   "metadata": {},
   "source": [
    "Re-read the saved model for verification and found that the test accuracy is about 76%"
   ]
  },
  {
   "cell_type": "code",
   "execution_count": 7,
   "metadata": {},
   "outputs": [
    {
     "name": "stdout",
     "output_type": "stream",
     "text": [
      "WARNING:tensorflow:From C:\\Users\\Victor\\Anaconda3\\lib\\site-packages\\tensorflow\\python\\training\\saver.py:1266: checkpoint_exists (from tensorflow.python.training.checkpoint_management) is deprecated and will be removed in a future version.\n",
      "Instructions for updating:\n",
      "Use standard file APIs to check for files with this prefix.\n",
      "INFO:tensorflow:Restoring parameters from ckpt/lstm_model-801\n",
      "test acc is [0.76243097]\n"
     ]
    }
   ],
   "source": [
    "restore_variables = model.ema.variables_to_restore()\n",
    "saver = tf.train.Saver(restore_variables)\n",
    "\n",
    "with tf.Session() as sess:\n",
    "    #ckpt = tf.train.get_checkpoint_state('ckpt')\n",
    "    saver.restore(sess, 'ckpt/lstm_model-801')\n",
    "    acc = sess.run([model.acc],\n",
    "                   {model.data: Xts, model.label: yts, model.emb_dropout: 1.0, model.rnn_dropout: 1.0})\n",
    "    print ('test acc is {}'.format(acc))"
   ]
  },
  {
   "cell_type": "markdown",
   "metadata": {},
   "source": [
    "Plot the train accuracy vs. test accuracy. \n",
    "\n",
    "The training accuracy will converage to about 93%, and the test accuracy will converge to about 76%."
   ]
  },
  {
   "cell_type": "code",
   "execution_count": 18,
   "metadata": {},
   "outputs": [
    {
     "data": {
      "text/plain": [
       "<matplotlib.legend.Legend at 0x1f3f9cb2ef0>"
      ]
     },
     "execution_count": 18,
     "metadata": {},
     "output_type": "execute_result"
    },
    {
     "data": {
      "image/png": "[encoded data removed]",
      "text/plain": [
       "<Figure size 432x288 with 1 Axes>"
      ]
     },
     "metadata": {
      "needs_background": "light"
     },
     "output_type": "display_data"
    }
   ],
   "source": [
    "import matplotlib\n",
    "import matplotlib.pyplot as plt\n",
    "%matplotlib inline\n",
    "\n",
    "plt.plot(acc_his)\n",
    "plt.plot(acc2_his)\n",
    "plt.grid()\n",
    "plt.xlabel('epochs')\n",
    "plt.ylabel('accuarcy')\n",
    "plt.legend(['training accuracy', 'testing accuracy'])"
   ]
  }
 ],
 "metadata": {
  "kernelspec": {
   "display_name": "Python 3",
   "language": "python",
   "name": "python3"
  },
  "language_info": {
   "codemirror_mode": {
    "name": "ipython",
    "version": 3
   },
   "file_extension": ".py",
   "mimetype": "text/x-python",
   "name": "python",
   "nbconvert_exporter": "python",
   "pygments_lexer": "ipython3",
   "version": "3.7.0"
  }
 },
 "nbformat": 4,
 "nbformat_minor": 2
}
